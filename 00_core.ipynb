{
 "cells": [
  {
   "cell_type": "code",
   "execution_count": null,
   "metadata": {},
   "outputs": [],
   "source": [
    "# default_exp core"
   ]
  },
  {
   "cell_type": "markdown",
   "metadata": {},
   "source": [
    "# truebranch functions\n",
    "\n",
    "> API details."
   ]
  },
  {
   "cell_type": "code",
   "execution_count": null,
   "metadata": {},
   "outputs": [],
   "source": [
    "#hide\n",
    "from nbdev.showdoc import *"
   ]
  },
  {
   "cell_type": "code",
   "execution_count": null,
   "metadata": {},
   "outputs": [],
   "source": [
    "%nbdev_export\n",
    "def say_hello(to):\n",
    "    \"Say hello to somebody\"\n",
    "    return f'Hello {to}!'"
   ]
  },
  {
   "cell_type": "code",
   "execution_count": null,
   "metadata": {},
   "outputs": [
    {
     "data": {
      "text/plain": [
       "'Hello Jana!'"
      ]
     },
     "execution_count": null,
     "metadata": {},
     "output_type": "execute_result"
    }
   ],
   "source": [
    "say_hello(\"Jana\")"
   ]
  },
  {
   "cell_type": "code",
   "execution_count": null,
   "metadata": {},
   "outputs": [
    {
     "name": "stdout",
     "output_type": "stream",
     "text": [
      "Requirement already satisfied: pytorch-metric-learning==0.9.87.dev4 in /Library/Frameworks/Python.framework/Versions/3.8/lib/python3.8/site-packages (0.9.87.dev4)\n",
      "Requirement already satisfied: numpy in /Library/Frameworks/Python.framework/Versions/3.8/lib/python3.8/site-packages (from pytorch-metric-learning==0.9.87.dev4) (1.19.1)\n",
      "Requirement already satisfied: scikit-learn in /Library/Frameworks/Python.framework/Versions/3.8/lib/python3.8/site-packages (from pytorch-metric-learning==0.9.87.dev4) (0.23.2)\n",
      "Requirement already satisfied: torch in /Library/Frameworks/Python.framework/Versions/3.8/lib/python3.8/site-packages (from pytorch-metric-learning==0.9.87.dev4) (1.6.0)\n",
      "Requirement already satisfied: torchvision in /Library/Frameworks/Python.framework/Versions/3.8/lib/python3.8/site-packages (from pytorch-metric-learning==0.9.87.dev4) (0.7.0)\n",
      "Requirement already satisfied: tqdm in /Library/Frameworks/Python.framework/Versions/3.8/lib/python3.8/site-packages (from pytorch-metric-learning==0.9.87.dev4) (4.48.2)\n",
      "Requirement already satisfied: joblib>=0.11 in /Library/Frameworks/Python.framework/Versions/3.8/lib/python3.8/site-packages (from scikit-learn->pytorch-metric-learning==0.9.87.dev4) (0.16.0)\n",
      "Requirement already satisfied: threadpoolctl>=2.0.0 in /Library/Frameworks/Python.framework/Versions/3.8/lib/python3.8/site-packages (from scikit-learn->pytorch-metric-learning==0.9.87.dev4) (2.1.0)\n",
      "Requirement already satisfied: scipy>=0.19.1 in /Library/Frameworks/Python.framework/Versions/3.8/lib/python3.8/site-packages (from scikit-learn->pytorch-metric-learning==0.9.87.dev4) (1.5.2)\n",
      "Requirement already satisfied: future in /Library/Frameworks/Python.framework/Versions/3.8/lib/python3.8/site-packages (from torch->pytorch-metric-learning==0.9.87.dev4) (0.18.2)\n",
      "Requirement already satisfied: pillow>=4.1.1 in /Library/Frameworks/Python.framework/Versions/3.8/lib/python3.8/site-packages (from torchvision->pytorch-metric-learning==0.9.87.dev4) (7.2.0)\n"
     ]
    }
   ],
   "source": [
    "! pip install pytorch-metric-learning==0.9.87.dev4"
   ]
  },
  {
   "cell_type": "code",
   "execution_count": null,
   "metadata": {},
   "outputs": [
    {
     "name": "stdout",
     "output_type": "stream",
     "text": [
      "Requirement already satisfied: faiss-cpu in /Library/Frameworks/Python.framework/Versions/3.8/lib/python3.8/site-packages (1.6.3)\r\n",
      "Requirement already satisfied: numpy in /Library/Frameworks/Python.framework/Versions/3.8/lib/python3.8/site-packages (from faiss-cpu) (1.19.1)\r\n"
     ]
    }
   ],
   "source": [
    "! pip install faiss-cpu --no-cache"
   ]
  },
  {
   "cell_type": "code",
   "execution_count": null,
   "metadata": {},
   "outputs": [
    {
     "name": "stderr",
     "output_type": "stream",
     "text": [
      "INFO:root:VERSION 0.9.87.dev4\n"
     ]
    }
   ],
   "source": [
    "%matplotlib inline\n",
    "import pytorch_metric_learning\n",
    "from pytorch_metric_learning import losses, miners, samplers, trainers, testers\n",
    "from pytorch_metric_learning.utils import common_functions\n",
    "import pytorch_metric_learning.utils.logging_presets as logging_presets\n",
    "import numpy as np\n",
    "import torchvision\n",
    "from torchvision import datasets, transforms\n",
    "import torch\n",
    "import torch.nn as nn\n",
    "from PIL import Image\n",
    "import logging\n",
    "import faiss\n",
    "import matplotlib\n",
    "import matplotlib.pyplot as plt\n",
    "from cycler import cycler\n",
    "import record_keeper\n",
    "logging.getLogger().setLevel(logging.INFO)\n",
    "logging.info(\"VERSION %s\"%pytorch_metric_learning.__version__)\n",
    "\n",
    "from record_keeper import RecordKeeper, RecordWriter"
   ]
  },
  {
   "cell_type": "code",
   "execution_count": null,
   "metadata": {},
   "outputs": [],
   "source": [
    "#Variables\n",
    "# Set the image transforms\n",
    "train_transform = transforms.Compose([transforms.Resize(224),\n",
    "                                    transforms.ToTensor(),\n",
    "                                    transforms.Normalize(mean=[0.485, 0.456, 0.406], std=[0.229, 0.224, 0.225])])\n",
    "\n",
    "val_transform = transforms.Compose([transforms.Resize(224),\n",
    "                                    transforms.ToTensor(),\n",
    "                                    transforms.Normalize(mean=[0.485, 0.456, 0.406], std=[0.229, 0.224, 0.225])])"
   ]
  },
  {
   "cell_type": "code",
   "execution_count": null,
   "metadata": {},
   "outputs": [],
   "source": [
    "train_dataset =  datasets.ImageFolder('/Users/Simona/Documents/Studium/MasterThesisFolder/AdditionalCode/Fresno_Area/train', transform=train_transform)\n",
    "val_dataset =  datasets.ImageFolder('/Users/Simona/Documents/Studium/MasterThesisFolder/AdditionalCode/Fresno_Area/val', transform=val_transform)\n",
    "test_dataset =  datasets.ImageFolder('/Users/Simona/Documents/Studium/MasterThesisFolder/AdditionalCode/Fresno_Area/test', transform=val_transform)"
   ]
  },
  {
   "cell_type": "markdown",
   "metadata": {},
   "source": [
    "## Simple model def"
   ]
  },
  {
   "cell_type": "code",
   "execution_count": null,
   "metadata": {},
   "outputs": [],
   "source": [
    "class MLP(nn.Module):\n",
    "    # layer_sizes[0] is the dimension of the input\n",
    "    # layer_sizes[-1] is the dimension of the output\n",
    "    def __init__(self, layer_sizes, final_relu=False):\n",
    "        super().__init__()\n",
    "        layer_list = []\n",
    "        layer_sizes = [int(x) for x in layer_sizes]\n",
    "        num_layers = len(layer_sizes) - 1\n",
    "        final_relu_layer = num_layers if final_relu else num_layers - 1\n",
    "        for i in range(len(layer_sizes) - 1):\n",
    "            input_size = layer_sizes[i]\n",
    "            curr_size = layer_sizes[i + 1]\n",
    "            if i < final_relu_layer:\n",
    "                layer_list.append(nn.ReLU(inplace=True))\n",
    "            layer_list.append(nn.Linear(input_size, curr_size))\n",
    "        self.net = nn.Sequential(*layer_list)\n",
    "        self.last_linear = self.net[-1]\n",
    "        #self.record_these = [\"last_linear\", \"net\"]\n",
    "\n",
    "    def forward(self, x):\n",
    "        return self.net(x)"
   ]
  },
  {
   "cell_type": "markdown",
   "metadata": {},
   "source": [
    "## Initialize models, optimizers and image transforms"
   ]
  },
  {
   "cell_type": "code",
   "execution_count": null,
   "metadata": {},
   "outputs": [],
   "source": [
    "device = torch.device(\"cuda\" if torch.cuda.is_available() else \"cpu\")\n",
    "\n",
    "# Set trunk model and replace the softmax layer with an identity function\n",
    "trunk = torchvision.models.resnet18(pretrained=True)\n",
    "trunk_output_size = trunk.fc.in_features\n",
    "trunk.fc = common_functions.Identity()\n",
    "trunk = torch.nn.DataParallel(trunk.to(device))\n",
    "\n",
    "# Set embedder model. This takes in the output of the trunk and outputs 64 dimensional embeddings\n",
    "embedder = torch.nn.DataParallel(MLP([trunk_output_size, 64]).to(device))\n",
    "\n",
    "# Set optimizers (trying out different learnng rates)\n",
    "#trunk_optimizer = torch.optim.Adam(trunk.parameters(), lr=0.00001, weight_decay=0.0001)\n",
    "#embedder_optimizer = torch.optim.Adam(embedder.parameters(), lr=0.0001, weight_decay=0.0001)\n",
    "trunk_optimizer = torch.optim.Adam(trunk.parameters(), lr=0.0001, weight_decay=0.0001)\n",
    "embedder_optimizer = torch.optim.Adam(embedder.parameters(), lr=0.001, weight_decay=0.0001)"
   ]
  },
  {
   "cell_type": "markdown",
   "metadata": {},
   "source": [
    "# Create the loss, miner, sampler, and package them into dictionaries"
   ]
  },
  {
   "cell_type": "code",
   "execution_count": null,
   "metadata": {},
   "outputs": [],
   "source": [
    "# Set the loss function\n",
    "loss = losses.TripletMarginLoss(margin=0.1)\n",
    "\n",
    "# Set the mining function\n",
    "miner = miners.TripletMarginMiner(margin=0.1, type_of_triplets=\"all\")\n",
    "#miner = miners.MultiSimilarityMiner(epsilon=0.1)\n",
    "\n",
    "# Set the dataloader sampler\n",
    "# 4 samples each will be returned -> for us m=2 max\n",
    "sampler = samplers.MPerClassSampler(train_dataset.targets, m=2, length_before_new_iter=len(train_dataset))\n",
    "#sampler  = samplers.FixedSetOfTriplets(train_dataset.targets, len(train_dataset))\n",
    "\n",
    "# Set other training parameters\n",
    "batch_size = 64\n",
    "num_epochs = 4\n",
    "\n",
    "# Package the above stuff into dictionaries.\n",
    "models = {\"trunk\": trunk, \"embedder\": embedder}\n",
    "optimizers = {\"trunk_optimizer\": trunk_optimizer, \"embedder_optimizer\": embedder_optimizer}\n",
    "loss_funcs = {\"metric_loss\": loss}\n",
    "mining_funcs = {\"tuple_miner\": miner}"
   ]
  },
  {
   "cell_type": "code",
   "execution_count": null,
   "metadata": {},
   "outputs": [],
   "source": [
    "# Remove logs if you want to train with new parameters\n",
    "!rm -rf example_logs/ example_saved_models/ example_tensorboard/"
   ]
  },
  {
   "cell_type": "markdown",
   "metadata": {},
   "source": [
    "## Create the training and testing hooks"
   ]
  },
  {
   "cell_type": "code",
   "execution_count": null,
   "metadata": {},
   "outputs": [
    {
     "name": "stdout",
     "output_type": "stream",
     "text": [
      "Requirement already satisfied: record-keeper in /Library/Frameworks/Python.framework/Versions/3.8/lib/python3.8/site-packages (0.9.26)\n",
      "Requirement already satisfied: tensorboard in /Library/Frameworks/Python.framework/Versions/3.8/lib/python3.8/site-packages (2.3.0)\n",
      "Requirement already satisfied: matplotlib in /Library/Frameworks/Python.framework/Versions/3.8/lib/python3.8/site-packages (from record-keeper) (3.3.1)\n",
      "Requirement already satisfied: numpy in /Library/Frameworks/Python.framework/Versions/3.8/lib/python3.8/site-packages (from record-keeper) (1.19.1)\n",
      "Requirement already satisfied: tensorboard-plugin-wit>=1.6.0 in /Library/Frameworks/Python.framework/Versions/3.8/lib/python3.8/site-packages (from tensorboard) (1.7.0)\n",
      "Requirement already satisfied: werkzeug>=0.11.15 in /Library/Frameworks/Python.framework/Versions/3.8/lib/python3.8/site-packages (from tensorboard) (1.0.1)\n",
      "Requirement already satisfied: markdown>=2.6.8 in /Library/Frameworks/Python.framework/Versions/3.8/lib/python3.8/site-packages (from tensorboard) (3.2.2)\n",
      "Requirement already satisfied: requests<3,>=2.21.0 in /Library/Frameworks/Python.framework/Versions/3.8/lib/python3.8/site-packages (from tensorboard) (2.24.0)\n",
      "Requirement already satisfied: setuptools>=41.0.0 in /Library/Frameworks/Python.framework/Versions/3.8/lib/python3.8/site-packages (from tensorboard) (47.1.0)\n",
      "Requirement already satisfied: wheel>=0.26; python_version >= \"3\" in /Library/Frameworks/Python.framework/Versions/3.8/lib/python3.8/site-packages (from tensorboard) (0.35.1)\n",
      "Requirement already satisfied: google-auth<2,>=1.6.3 in /Library/Frameworks/Python.framework/Versions/3.8/lib/python3.8/site-packages (from tensorboard) (1.20.1)\n",
      "Requirement already satisfied: protobuf>=3.6.0 in /Library/Frameworks/Python.framework/Versions/3.8/lib/python3.8/site-packages (from tensorboard) (3.13.0)\n",
      "Requirement already satisfied: grpcio>=1.24.3 in /Library/Frameworks/Python.framework/Versions/3.8/lib/python3.8/site-packages (from tensorboard) (1.31.0)\n",
      "Requirement already satisfied: six>=1.10.0 in /Library/Frameworks/Python.framework/Versions/3.8/lib/python3.8/site-packages (from tensorboard) (1.15.0)\n",
      "Requirement already satisfied: google-auth-oauthlib<0.5,>=0.4.1 in /Library/Frameworks/Python.framework/Versions/3.8/lib/python3.8/site-packages (from tensorboard) (0.4.1)\n",
      "Requirement already satisfied: absl-py>=0.4 in /Library/Frameworks/Python.framework/Versions/3.8/lib/python3.8/site-packages (from tensorboard) (0.10.0)\n",
      "Requirement already satisfied: certifi>=2020.06.20 in /Library/Frameworks/Python.framework/Versions/3.8/lib/python3.8/site-packages (from matplotlib->record-keeper) (2020.6.20)\n",
      "Requirement already satisfied: cycler>=0.10 in /Library/Frameworks/Python.framework/Versions/3.8/lib/python3.8/site-packages (from matplotlib->record-keeper) (0.10.0)\n",
      "Requirement already satisfied: python-dateutil>=2.1 in /Library/Frameworks/Python.framework/Versions/3.8/lib/python3.8/site-packages (from matplotlib->record-keeper) (2.8.1)\n",
      "Requirement already satisfied: pillow>=6.2.0 in /Library/Frameworks/Python.framework/Versions/3.8/lib/python3.8/site-packages (from matplotlib->record-keeper) (7.2.0)\n",
      "Requirement already satisfied: pyparsing!=2.0.4,!=2.1.2,!=2.1.6,>=2.0.3 in /Library/Frameworks/Python.framework/Versions/3.8/lib/python3.8/site-packages (from matplotlib->record-keeper) (2.4.7)\n",
      "Requirement already satisfied: kiwisolver>=1.0.1 in /Library/Frameworks/Python.framework/Versions/3.8/lib/python3.8/site-packages (from matplotlib->record-keeper) (1.2.0)\n",
      "Requirement already satisfied: chardet<4,>=3.0.2 in /Library/Frameworks/Python.framework/Versions/3.8/lib/python3.8/site-packages (from requests<3,>=2.21.0->tensorboard) (3.0.4)\n",
      "Requirement already satisfied: urllib3!=1.25.0,!=1.25.1,<1.26,>=1.21.1 in /Library/Frameworks/Python.framework/Versions/3.8/lib/python3.8/site-packages (from requests<3,>=2.21.0->tensorboard) (1.25.10)\n",
      "Requirement already satisfied: idna<3,>=2.5 in /Library/Frameworks/Python.framework/Versions/3.8/lib/python3.8/site-packages (from requests<3,>=2.21.0->tensorboard) (2.10)\n",
      "Requirement already satisfied: cachetools<5.0,>=2.0.0 in /Library/Frameworks/Python.framework/Versions/3.8/lib/python3.8/site-packages (from google-auth<2,>=1.6.3->tensorboard) (4.1.1)\n",
      "Requirement already satisfied: rsa<5,>=3.1.4; python_version >= \"3.5\" in /Library/Frameworks/Python.framework/Versions/3.8/lib/python3.8/site-packages (from google-auth<2,>=1.6.3->tensorboard) (4.6)\n",
      "Requirement already satisfied: pyasn1-modules>=0.2.1 in /Library/Frameworks/Python.framework/Versions/3.8/lib/python3.8/site-packages (from google-auth<2,>=1.6.3->tensorboard) (0.2.8)\n",
      "Requirement already satisfied: requests-oauthlib>=0.7.0 in /Library/Frameworks/Python.framework/Versions/3.8/lib/python3.8/site-packages (from google-auth-oauthlib<0.5,>=0.4.1->tensorboard) (1.3.0)\n",
      "Requirement already satisfied: pyasn1>=0.1.3 in /Library/Frameworks/Python.framework/Versions/3.8/lib/python3.8/site-packages (from rsa<5,>=3.1.4; python_version >= \"3.5\"->google-auth<2,>=1.6.3->tensorboard) (0.4.8)\n",
      "Requirement already satisfied: oauthlib>=3.0.0 in /Library/Frameworks/Python.framework/Versions/3.8/lib/python3.8/site-packages (from requests-oauthlib>=0.7.0->google-auth-oauthlib<0.5,>=0.4.1->tensorboard) (3.1.0)\n"
     ]
    }
   ],
   "source": [
    "! pip install record-keeper tensorboard"
   ]
  },
  {
   "cell_type": "code",
   "execution_count": null,
   "metadata": {},
   "outputs": [
    {
     "name": "stderr",
     "output_type": "stream",
     "text": [
      "WARNING:root:No module named 'tensorboard'\n",
      "WARNING:root:There won't be any logging or model saving.\n",
      "WARNING:root:To fix this, pip install record-keeper tensorboard\n",
      "WARNING:root:No record_keeper, so no preset hooks are being returned.\n"
     ]
    }
   ],
   "source": [
    "record_keeper, _, _ = logging_presets.get_record_keeper(\"example_logs\", \"example_tensorboard\")\n",
    "hooks = logging_presets.get_hook_container(record_keeper)\n",
    "dataset_dict = {\"val\": val_dataset}\n",
    "model_folder = \"example_saved_models\""
   ]
  },
  {
   "cell_type": "code",
   "execution_count": null,
   "metadata": {},
   "outputs": [
    {
     "name": "stdout",
     "output_type": "stream",
     "text": [
      "\u001b[31m  ERROR: Command errored out with exit status 1:\n",
      "   command: /Library/Frameworks/Python.framework/Versions/3.8/bin/python3.8 -u -c 'import sys, setuptools, tokenize; sys.argv[0] = '\"'\"'/private/var/folders/64/cfbgb51x76n53yph6vg0ljhw0000gn/T/pip-install-xgzdbww0/faiss-gpu/setup.py'\"'\"'; __file__='\"'\"'/private/var/folders/64/cfbgb51x76n53yph6vg0ljhw0000gn/T/pip-install-xgzdbww0/faiss-gpu/setup.py'\"'\"';f=getattr(tokenize, '\"'\"'open'\"'\"', open)(__file__);code=f.read().replace('\"'\"'\\r\\n'\"'\"', '\"'\"'\\n'\"'\"');f.close();exec(compile(code, __file__, '\"'\"'exec'\"'\"'))' bdist_wheel -d /private/var/folders/64/cfbgb51x76n53yph6vg0ljhw0000gn/T/pip-wheel-qm35cgmg\n",
      "       cwd: /private/var/folders/64/cfbgb51x76n53yph6vg0ljhw0000gn/T/pip-install-xgzdbww0/faiss-gpu/\n",
      "  Complete output (8 lines):\n",
      "  running bdist_wheel\n",
      "  running build\n",
      "  running build_ext\n",
      "  building 'faiss._swigfaiss' extension\n",
      "  swigging python/swigfaiss.i to python/swigfaiss_wrap.cpp\n",
      "  swig -python -c++ -Doverride= -I/usr/local/include/faiss -I/usr/local/cuda/include -DGPU_WRAPPER -o python/swigfaiss_wrap.cpp python/swigfaiss.i\n",
      "  unable to execute 'swig': No such file or directory\n",
      "  error: command 'swig' failed with exit status 1\n",
      "  ----------------------------------------\u001b[0m\n",
      "\u001b[31m  ERROR: Failed building wheel for faiss-gpu\u001b[0m\n",
      "\u001b[33mDEPRECATION: Could not build wheels for faiss-gpu which do not use PEP 517. pip will fall back to legacy 'setup.py install' for these. pip 21.0 will remove support for this functionality. A possible replacement is to fix the wheel build issue reported above. You can find discussion regarding this at https://github.com/pypa/pip/issues/8368.\u001b[0m\n",
      "\u001b[31m    ERROR: Command errored out with exit status 1:\n",
      "     command: /Library/Frameworks/Python.framework/Versions/3.8/bin/python3.8 -u -c 'import sys, setuptools, tokenize; sys.argv[0] = '\"'\"'/private/var/folders/64/cfbgb51x76n53yph6vg0ljhw0000gn/T/pip-install-xgzdbww0/faiss-gpu/setup.py'\"'\"'; __file__='\"'\"'/private/var/folders/64/cfbgb51x76n53yph6vg0ljhw0000gn/T/pip-install-xgzdbww0/faiss-gpu/setup.py'\"'\"';f=getattr(tokenize, '\"'\"'open'\"'\"', open)(__file__);code=f.read().replace('\"'\"'\\r\\n'\"'\"', '\"'\"'\\n'\"'\"');f.close();exec(compile(code, __file__, '\"'\"'exec'\"'\"'))' install --record /private/var/folders/64/cfbgb51x76n53yph6vg0ljhw0000gn/T/pip-record-yh2v2z2q/install-record.txt --single-version-externally-managed --compile --install-headers /Library/Frameworks/Python.framework/Versions/3.8/include/python3.8/faiss-gpu\n",
      "         cwd: /private/var/folders/64/cfbgb51x76n53yph6vg0ljhw0000gn/T/pip-install-xgzdbww0/faiss-gpu/\n",
      "    Complete output (8 lines):\n",
      "    running install\n",
      "    running build\n",
      "    running build_ext\n",
      "    building 'faiss._swigfaiss' extension\n",
      "    swigging python/swigfaiss.i to python/swigfaiss_wrap.cpp\n",
      "    swig -python -c++ -Doverride= -I/usr/local/include/faiss -I/usr/local/cuda/include -DGPU_WRAPPER -o python/swigfaiss_wrap.cpp python/swigfaiss.i\n",
      "    unable to execute 'swig': No such file or directory\n",
      "    error: command 'swig' failed with exit status 1\n",
      "    ----------------------------------------\u001b[0m\n",
      "\u001b[31mERROR: Command errored out with exit status 1: /Library/Frameworks/Python.framework/Versions/3.8/bin/python3.8 -u -c 'import sys, setuptools, tokenize; sys.argv[0] = '\"'\"'/private/var/folders/64/cfbgb51x76n53yph6vg0ljhw0000gn/T/pip-install-xgzdbww0/faiss-gpu/setup.py'\"'\"'; __file__='\"'\"'/private/var/folders/64/cfbgb51x76n53yph6vg0ljhw0000gn/T/pip-install-xgzdbww0/faiss-gpu/setup.py'\"'\"';f=getattr(tokenize, '\"'\"'open'\"'\"', open)(__file__);code=f.read().replace('\"'\"'\\r\\n'\"'\"', '\"'\"'\\n'\"'\"');f.close();exec(compile(code, __file__, '\"'\"'exec'\"'\"'))' install --record /private/var/folders/64/cfbgb51x76n53yph6vg0ljhw0000gn/T/pip-record-yh2v2z2q/install-record.txt --single-version-externally-managed --compile --install-headers /Library/Frameworks/Python.framework/Versions/3.8/include/python3.8/faiss-gpu Check the logs for full command output.\u001b[0m\n"
     ]
    }
   ],
   "source": [
    "!pip install -q pytorch-metric-learning\n",
    "!pip install -q faiss-gpu\n",
    "!pip install -q umap-learn\n",
    "!pip install -q pynndescent\n",
    "!pip install -q record-keeper"
   ]
  },
  {
   "cell_type": "code",
   "execution_count": null,
   "metadata": {},
   "outputs": [],
   "source": [
    "# Create the tester\n",
    "tester = testers.GlobalEmbeddingSpaceTester(end_of_testing_hook = hooks.end_of_testing_hook, \n",
    "                                            dataloader_num_workers = 32)\n",
    "\n",
    "end_of_epoch_hook = hooks.end_of_epoch_hook(tester, \n",
    "                                            dataset_dict, \n",
    "                                            model_folder, \n",
    "                                            #test_interval = 1,\n",
    "                                            #patience = 1)\n",
    "                                           )"
   ]
  },
  {
   "cell_type": "code",
   "execution_count": null,
   "metadata": {},
   "outputs": [],
   "source": [
    "trainer = trainers.MetricLossOnly(models,\n",
    "                                optimizers,\n",
    "                                batch_size,\n",
    "                                loss_funcs,\n",
    "                                mining_funcs,\n",
    "                                train_dataset,\n",
    "                                sampler=sampler,\n",
    "                                dataloader_num_workers = 32,\n",
    "                                end_of_iteration_hook = hooks.end_of_iteration_hook,\n",
    "                                end_of_epoch_hook = end_of_epoch_hook)"
   ]
  },
  {
   "cell_type": "code",
   "execution_count": null,
   "metadata": {},
   "outputs": [
    {
     "name": "stderr",
     "output_type": "stream",
     "text": [
      "INFO:root:Initializing dataloader\n",
      "INFO:root:Initializing dataloader iterator\n",
      "INFO:root:Done creating dataloader iterator\n",
      "INFO:root:TRAINING EPOCH 1\n",
      "  0%|          | 0/36 [00:00<?, ?it/s]/Users/Simona/opt/miniconda3/lib/python3.8/site-packages/pytorch_metric_learning/utils/loss_and_miner_utils.py:120: UserWarning: This overload of nonzero is deprecated:\n",
      "\tnonzero()\n",
      "Consider using one of the following signatures instead:\n",
      "\tnonzero(*, bool as_tuple) (Triggered internally at  ../torch/csrc/utils/python_arg_parser.cpp:766.)\n",
      "  a_idx = triplets.nonzero()[:, 0].flatten()\n",
      "total_loss=0.07465: 100%|██████████| 36/36 [14:23<00:00, 23.98s/it]\n",
      "INFO:root:TRAINING EPOCH 2\n",
      "total_loss=0.09641: 100%|██████████| 36/36 [17:13<00:00, 28.71s/it]  \n",
      "INFO:root:TRAINING EPOCH 3\n",
      "total_loss=0.08873: 100%|██████████| 36/36 [14:49<00:00, 24.71s/it]  \n",
      "INFO:root:TRAINING EPOCH 4\n",
      "total_loss=0.08846: 100%|██████████| 36/36 [14:42<00:00, 24.51s/it]  \n"
     ]
    }
   ],
   "source": [
    "trainer.train(num_epochs=num_epochs)"
   ]
  },
  {
   "cell_type": "markdown",
   "metadata": {},
   "source": [
    "# Saving results"
   ]
  },
  {
   "cell_type": "code",
   "execution_count": null,
   "metadata": {},
   "outputs": [],
   "source": [
    "PATH1 = './SentinelNaip_TripletMarginMiner_trunk.pth'\n",
    "PATH2 = './SentinelNaip_TripletMarginMiner_embed.pth'\n",
    "torch.save(trunk.state_dict(), PATH1)\n",
    "torch.save(embedder.state_dict(), PATH2)"
   ]
  },
  {
   "cell_type": "code",
   "execution_count": null,
   "metadata": {},
   "outputs": [],
   "source": []
  },
  {
   "cell_type": "code",
   "execution_count": null,
   "metadata": {},
   "outputs": [
    {
     "ename": "AttributeError",
     "evalue": "'EmptyContainer' object has no attribute 'get_loss_history'",
     "output_type": "error",
     "traceback": [
      "\u001b[0;31m---------------------------------------------------------------------------\u001b[0m",
      "\u001b[0;31mAttributeError\u001b[0m                            Traceback (most recent call last)",
      "\u001b[0;32m<ipython-input-27-a40b1c34b18e>\u001b[0m in \u001b[0;36m<module>\u001b[0;34m\u001b[0m\n\u001b[1;32m      1\u001b[0m \u001b[0;31m# Get a dictionary mapping from loss names to lists\u001b[0m\u001b[0;34m\u001b[0m\u001b[0;34m\u001b[0m\u001b[0;34m\u001b[0m\u001b[0m\n\u001b[0;32m----> 2\u001b[0;31m \u001b[0mloss_histories\u001b[0m \u001b[0;34m=\u001b[0m \u001b[0mhooks\u001b[0m\u001b[0;34m.\u001b[0m\u001b[0mget_loss_history\u001b[0m\u001b[0;34m(\u001b[0m\u001b[0;34m)\u001b[0m\u001b[0;34m\u001b[0m\u001b[0;34m\u001b[0m\u001b[0m\n\u001b[0m",
      "\u001b[0;31mAttributeError\u001b[0m: 'EmptyContainer' object has no attribute 'get_loss_history'"
     ]
    }
   ],
   "source": [
    "# Get a dictionary mapping from loss names to lists\n",
    "loss_histories = hooks.get_loss_history() "
   ]
  },
  {
   "cell_type": "code",
   "execution_count": null,
   "metadata": {},
   "outputs": [
    {
     "name": "stderr",
     "output_type": "stream",
     "text": [
      "INFO:root:Evaluating epoch 4\n",
      "INFO:root:Getting embeddings for the test split\n",
      "100%|██████████| 6/6 [01:13<00:00, 12.27s/it]\n",
      "INFO:root:Computing accuracy for the test split\n",
      "INFO:root:running k-nn with k=2\n",
      "INFO:root:embedding dimensionality is 64\n",
      "INFO:root:running k-means clustering with k=83\n",
      "INFO:root:embedding dimensionality is 64\n",
      "INFO:root:defaultdict(<class 'dict'>, {'test': {'epoch': 4, 'AMI_level0': 0.23172787362871838, 'NMI_level0': 0.8651431734890223, 'mean_average_precision_at_r_level0': 0.26506024096385544, 'precision_at_1_level0': 0.26506024096385544, 'r_precision_level0': 0.26506024096385544}})\n"
     ]
    }
   ],
   "source": [
    "test_dict = {\"test\": test_dataset}\n",
    "tester.test(epoch=num_epochs,dataset_dict=test_dict, trunk_model = trunk, embedder_model=embedder)"
   ]
  },
  {
   "cell_type": "code",
   "execution_count": null,
   "metadata": {},
   "outputs": [
    {
     "name": "stderr",
     "output_type": "stream",
     "text": [
      "100%|██████████| 73/73 [07:40<00:00,  6.31s/it] \n",
      "100%|██████████| 6/6 [01:04<00:00, 10.80s/it]\n",
      "100%|██████████| 6/6 [01:12<00:00, 12.14s/it]\n"
     ]
    }
   ],
   "source": [
    "# extract embeddings\n",
    "train_emb, train_lab = tester.get_all_embeddings(train_dataset,trunk_model = trunk, embedder_model=embedder)\n",
    "val_emb, val_lab = tester.get_all_embeddings(val_dataset, trunk_model = trunk, embedder_model=embedder)\n",
    "test_emb, test_lab = tester.get_all_embeddings(test_dataset, trunk_model = trunk, embedder_model=embedder)"
   ]
  },
  {
   "cell_type": "code",
   "execution_count": null,
   "metadata": {},
   "outputs": [],
   "source": [
    "'/Users/Simona/Documents/Studium/MasterThesisFolder/AdditionalCode/Fresno_Area/train'\n",
    "np.savetxt('/Users/Simona/Documents/Studium/MasterThesisFolder/AdditionalCode/Fresno_Area/train_emb_triplet',train_emb)\n",
    "np.savetxt('/Users/Simona/Documents/Studium/MasterThesisFolder/AdditionalCode/Fresno_Area/train_lab_triplet',train_lab)\n",
    "np.savetxt('/Users/Simona/Documents/Studium/MasterThesisFolder/AdditionalCode/Fresno_Area/val_emb_triplet',val_emb)\n",
    "np.savetxt('/Users/Simona/Documents/Studium/MasterThesisFolder/AdditionalCode/Fresno_Area/val_lab_triplet',val_lab)\n",
    "np.savetxt('/Users/Simona/Documents/Studium/MasterThesisFolder/AdditionalCode/Fresno_Area/test_emb_triplet',test_emb)\n",
    "np.savetxt('/Users/Simona/Documents/Studium/MasterThesisFolder/AdditionalCode/Fresno_Area/test_lab_triplet',test_lab)"
   ]
  },
  {
   "cell_type": "markdown",
   "metadata": {},
   "source": [
    "# Distance Plots\n"
   ]
  },
  {
   "cell_type": "code",
   "execution_count": null,
   "metadata": {},
   "outputs": [],
   "source": [
    "from numpy.linalg import norm\n",
    "distance_to_ = []\n",
    "for i in range(0,test_emb.shape[0]):\n",
    "  sublist = []\n",
    "  for j in range(0,test_emb.shape[0]):\n",
    "    labels = tuple([int(test_lab[i]),int(test_lab[j])])\n",
    "    sublist.append(tuple([norm(test_emb[i]-test_emb[j]),labels]))\n",
    "    #sublist.sort()\n",
    "  distance_to_.append(sublist)"
   ]
  },
  {
   "cell_type": "markdown",
   "metadata": {},
   "source": [
    "# List of distances between Sentinel (anchor) and Naip (pos,neg)"
   ]
  },
  {
   "cell_type": "markdown",
   "metadata": {},
   "source": [
    "### Plotting anchor, positive and negative distances"
   ]
  },
  {
   "cell_type": "code",
   "execution_count": null,
   "metadata": {},
   "outputs": [],
   "source": [
    "x_neg = []\n",
    "x_pos = []\n",
    "x_arr_neg = np.asarray([0]*len(test_dataset))\n",
    "x_arr_pos = np.asarray([0]*len(test_dataset))\n",
    "x_arr_neg_list = []\n",
    "x_arr_pos_list = []\n",
    "x_arr_labels_list = []\n",
    "x_arr_labels_list_n = []\n",
    "\n",
    "for i in range(0,int(len(distance_to_)/2)):\n",
    "  x_n_ = []\n",
    "  x_p_ = []\n",
    "  x_p_labels = []\n",
    "  x_n_labels = []\n",
    "  x_n_labels_raw = []\n",
    "  for j in range(0,int(len(distance_to_)/2)):\n",
    "    if distance_to_[i*2+1][j*2][1][1] == i:\n",
    "      x_p_.append(distance_to_[i*2+1][j*2][0]) \n",
    "      x_p_labels.append(i)\n",
    "    else:\n",
    "      x_n_.append(distance_to_[i*2+1][j*2][0])\n",
    "      x_n_labels.append((i*2+1,j*2))\n",
    "      x_n_labels_raw.append((i,j))\n",
    "  x_arr_neg_ = np.asarray(x_n_)\n",
    "  x_arr_pos_ = np.asarray(x_p_)\n",
    "  x_arr_neg_list.append(x_arr_neg_)\n",
    "  #x_arr_pos = x_arr_pos + x_arr_pos_\n",
    "  x_arr_pos_list.append(x_arr_pos_)\n",
    "  x_arr_labels_list.append(x_p_labels)\n",
    "  x_arr_labels_list_n.append(x_n_labels_raw)\n",
    "  x_mean_neg = np.mean(x_arr_neg, axis=0)\n",
    "  x_mean_pos = np.mean(x_arr_pos, axis=0)\n",
    "  x_std_neg = np.std(x_arr_neg, axis=0)\n",
    "  x_std_pos = np.std(x_arr_pos, axis=0)"
   ]
  },
  {
   "cell_type": "code",
   "execution_count": null,
   "metadata": {},
   "outputs": [
    {
     "name": "stdout",
     "output_type": "stream",
     "text": [
      "Collecting seaborn\n",
      "  Using cached seaborn-0.10.1-py3-none-any.whl (215 kB)\n",
      "Requirement already satisfied: numpy>=1.13.3 in /Users/Simona/opt/miniconda3/lib/python3.8/site-packages (from seaborn) (1.19.1)\n",
      "Collecting pandas>=0.22.0\n",
      "  Using cached pandas-1.1.1-cp38-cp38-macosx_10_9_x86_64.whl (10.6 MB)\n",
      "Requirement already satisfied: scipy>=1.0.1 in /Users/Simona/opt/miniconda3/lib/python3.8/site-packages (from seaborn) (1.5.2)\n",
      "Requirement already satisfied: matplotlib>=2.1.2 in /Users/Simona/opt/miniconda3/lib/python3.8/site-packages (from seaborn) (3.3.1)\n",
      "Requirement already satisfied: python-dateutil>=2.7.3 in /Users/Simona/opt/miniconda3/lib/python3.8/site-packages (from pandas>=0.22.0->seaborn) (2.8.1)\n",
      "Collecting pytz>=2017.2\n",
      "  Using cached pytz-2020.1-py2.py3-none-any.whl (510 kB)\n",
      "Requirement already satisfied: pillow>=6.2.0 in /Users/Simona/opt/miniconda3/lib/python3.8/site-packages (from matplotlib>=2.1.2->seaborn) (7.2.0)\n",
      "Requirement already satisfied: cycler>=0.10 in /Users/Simona/opt/miniconda3/lib/python3.8/site-packages (from matplotlib>=2.1.2->seaborn) (0.10.0)\n",
      "Requirement already satisfied: certifi>=2020.06.20 in /Users/Simona/opt/miniconda3/lib/python3.8/site-packages (from matplotlib>=2.1.2->seaborn) (2020.6.20)\n",
      "Requirement already satisfied: kiwisolver>=1.0.1 in /Users/Simona/opt/miniconda3/lib/python3.8/site-packages (from matplotlib>=2.1.2->seaborn) (1.2.0)\n",
      "Requirement already satisfied: pyparsing!=2.0.4,!=2.1.2,!=2.1.6,>=2.0.3 in /Users/Simona/opt/miniconda3/lib/python3.8/site-packages (from matplotlib>=2.1.2->seaborn) (2.4.7)\n",
      "Requirement already satisfied: six>=1.5 in /Users/Simona/opt/miniconda3/lib/python3.8/site-packages (from python-dateutil>=2.7.3->pandas>=0.22.0->seaborn) (1.15.0)\n",
      "Installing collected packages: pytz, pandas, seaborn\n",
      "Successfully installed pandas-1.1.1 pytz-2020.1 seaborn-0.10.1\n",
      "Note: you may need to restart the kernel to use updated packages.\n"
     ]
    }
   ],
   "source": [
    "pip install seaborn"
   ]
  },
  {
   "cell_type": "code",
   "execution_count": null,
   "metadata": {},
   "outputs": [
    {
     "data": {
      "image/png": "[encoded data removed]",
      "text/plain": [
       "<Figure size 432x288 with 1 Axes>"
      ]
     },
     "metadata": {},
     "output_type": "display_data"
    }
   ],
   "source": [
    "import seaborn as sns, numpy as np\n",
    "sns.set()\n",
    "x = x_arr_neg_list\n",
    "x_2 =  x_arr_pos_list\n",
    "ax = sns.distplot(x,label=\"different location\")\n",
    "ax = sns.distplot(x_2,label=\"same location\")\n",
    "ax.set(xlabel='Distance', ylabel='Distribution')\n",
    "plt.title(\"Distance between locations\") \n",
    "plt.legend()\n",
    "plt.show()"
   ]
  }
 ],
 "metadata": {
  "kernelspec": {
   "display_name": "Python 3",
   "language": "python",
   "name": "python3"
  }
 },
 "nbformat": 4,
 "nbformat_minor": 2
}
